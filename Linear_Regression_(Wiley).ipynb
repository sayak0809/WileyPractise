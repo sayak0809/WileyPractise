{
  "nbformat": 4,
  "nbformat_minor": 0,
  "metadata": {
    "colab": {
      "name": "Linear Regression (Wiley).ipynb",
      "provenance": [],
      "collapsed_sections": []
    },
    "kernelspec": {
      "name": "python3",
      "display_name": "Python 3"
    },
    "language_info": {
      "name": "python"
    }
  },
  "cells": [
    {
      "cell_type": "markdown",
      "metadata": {
        "id": "zgXTyJGrXzIS"
      },
      "source": [
        "## Dataset used : MBA Salary.csv"
      ]
    },
    {
      "cell_type": "code",
      "metadata": {
        "colab": {
          "base_uri": "https://localhost:8080/"
        },
        "id": "GALv4I0TWepK",
        "outputId": "0eb5e76d-80e7-46d3-b41c-b170784933ba"
      },
      "source": [
        "import pandas as pd\n",
        "import numpy as np\n",
        "import statsmodels.api as sm"
      ],
      "execution_count": 1,
      "outputs": [
        {
          "output_type": "stream",
          "name": "stderr",
          "text": [
            "/usr/local/lib/python3.7/dist-packages/statsmodels/tools/_testing.py:19: FutureWarning: pandas.util.testing is deprecated. Use the functions in the public API at pandas.testing instead.\n",
            "  import pandas.util.testing as tm\n"
          ]
        }
      ]
    },
    {
      "cell_type": "code",
      "metadata": {
        "id": "W7OjCm2vX6-S"
      },
      "source": [
        "df = pd.read_csv('MBA Salary.csv')"
      ],
      "execution_count": 2,
      "outputs": []
    },
    {
      "cell_type": "code",
      "metadata": {
        "colab": {
          "base_uri": "https://localhost:8080/",
          "height": 203
        },
        "id": "eZ9CUHCaX-j7",
        "outputId": "f1bc06fa-1c20-4c8d-bf69-7d1247a40b4a"
      },
      "source": [
        "df.head()"
      ],
      "execution_count": 3,
      "outputs": [
        {
          "output_type": "execute_result",
          "data": {
            "text/html": [
              "<div>\n",
              "<style scoped>\n",
              "    .dataframe tbody tr th:only-of-type {\n",
              "        vertical-align: middle;\n",
              "    }\n",
              "\n",
              "    .dataframe tbody tr th {\n",
              "        vertical-align: top;\n",
              "    }\n",
              "\n",
              "    .dataframe thead th {\n",
              "        text-align: right;\n",
              "    }\n",
              "</style>\n",
              "<table border=\"1\" class=\"dataframe\">\n",
              "  <thead>\n",
              "    <tr style=\"text-align: right;\">\n",
              "      <th></th>\n",
              "      <th>S. No.</th>\n",
              "      <th>Percentage in Grade 10</th>\n",
              "      <th>Salary</th>\n",
              "    </tr>\n",
              "  </thead>\n",
              "  <tbody>\n",
              "    <tr>\n",
              "      <th>0</th>\n",
              "      <td>1</td>\n",
              "      <td>62.00</td>\n",
              "      <td>270000</td>\n",
              "    </tr>\n",
              "    <tr>\n",
              "      <th>1</th>\n",
              "      <td>2</td>\n",
              "      <td>76.33</td>\n",
              "      <td>200000</td>\n",
              "    </tr>\n",
              "    <tr>\n",
              "      <th>2</th>\n",
              "      <td>3</td>\n",
              "      <td>72.00</td>\n",
              "      <td>240000</td>\n",
              "    </tr>\n",
              "    <tr>\n",
              "      <th>3</th>\n",
              "      <td>4</td>\n",
              "      <td>60.00</td>\n",
              "      <td>250000</td>\n",
              "    </tr>\n",
              "    <tr>\n",
              "      <th>4</th>\n",
              "      <td>5</td>\n",
              "      <td>61.00</td>\n",
              "      <td>180000</td>\n",
              "    </tr>\n",
              "  </tbody>\n",
              "</table>\n",
              "</div>"
            ],
            "text/plain": [
              "   S. No.  Percentage in Grade 10  Salary\n",
              "0       1                   62.00  270000\n",
              "1       2                   76.33  200000\n",
              "2       3                   72.00  240000\n",
              "3       4                   60.00  250000\n",
              "4       5                   61.00  180000"
            ]
          },
          "metadata": {},
          "execution_count": 3
        }
      ]
    },
    {
      "cell_type": "code",
      "metadata": {
        "colab": {
          "base_uri": "https://localhost:8080/"
        },
        "id": "FmetRshQYBfZ",
        "outputId": "099f328f-875d-481e-c261-17cc204aceae"
      },
      "source": [
        "df.info()"
      ],
      "execution_count": 4,
      "outputs": [
        {
          "output_type": "stream",
          "name": "stdout",
          "text": [
            "<class 'pandas.core.frame.DataFrame'>\n",
            "RangeIndex: 50 entries, 0 to 49\n",
            "Data columns (total 3 columns):\n",
            " #   Column                  Non-Null Count  Dtype  \n",
            "---  ------                  --------------  -----  \n",
            " 0   S. No.                  50 non-null     int64  \n",
            " 1   Percentage in Grade 10  50 non-null     float64\n",
            " 2   Salary                  50 non-null     int64  \n",
            "dtypes: float64(1), int64(2)\n",
            "memory usage: 1.3 KB\n"
          ]
        }
      ]
    },
    {
      "cell_type": "code",
      "metadata": {
        "colab": {
          "base_uri": "https://localhost:8080/",
          "height": 203
        },
        "id": "Gfae9xBrYLRU",
        "outputId": "2c793e1a-8509-417e-d474-ad40543c2d57"
      },
      "source": [
        "X = sm.add_constant(df['Percentage in Grade 10'])\n",
        "X.head(5)"
      ],
      "execution_count": 5,
      "outputs": [
        {
          "output_type": "execute_result",
          "data": {
            "text/html": [
              "<div>\n",
              "<style scoped>\n",
              "    .dataframe tbody tr th:only-of-type {\n",
              "        vertical-align: middle;\n",
              "    }\n",
              "\n",
              "    .dataframe tbody tr th {\n",
              "        vertical-align: top;\n",
              "    }\n",
              "\n",
              "    .dataframe thead th {\n",
              "        text-align: right;\n",
              "    }\n",
              "</style>\n",
              "<table border=\"1\" class=\"dataframe\">\n",
              "  <thead>\n",
              "    <tr style=\"text-align: right;\">\n",
              "      <th></th>\n",
              "      <th>const</th>\n",
              "      <th>Percentage in Grade 10</th>\n",
              "    </tr>\n",
              "  </thead>\n",
              "  <tbody>\n",
              "    <tr>\n",
              "      <th>0</th>\n",
              "      <td>1.0</td>\n",
              "      <td>62.00</td>\n",
              "    </tr>\n",
              "    <tr>\n",
              "      <th>1</th>\n",
              "      <td>1.0</td>\n",
              "      <td>76.33</td>\n",
              "    </tr>\n",
              "    <tr>\n",
              "      <th>2</th>\n",
              "      <td>1.0</td>\n",
              "      <td>72.00</td>\n",
              "    </tr>\n",
              "    <tr>\n",
              "      <th>3</th>\n",
              "      <td>1.0</td>\n",
              "      <td>60.00</td>\n",
              "    </tr>\n",
              "    <tr>\n",
              "      <th>4</th>\n",
              "      <td>1.0</td>\n",
              "      <td>61.00</td>\n",
              "    </tr>\n",
              "  </tbody>\n",
              "</table>\n",
              "</div>"
            ],
            "text/plain": [
              "   const  Percentage in Grade 10\n",
              "0    1.0                   62.00\n",
              "1    1.0                   76.33\n",
              "2    1.0                   72.00\n",
              "3    1.0                   60.00\n",
              "4    1.0                   61.00"
            ]
          },
          "metadata": {},
          "execution_count": 5
        }
      ]
    },
    {
      "cell_type": "code",
      "metadata": {
        "colab": {
          "base_uri": "https://localhost:8080/"
        },
        "id": "tpKWbbj_Yr1R",
        "outputId": "2d50457f-c4b9-4a47-ea06-8f285837dd19"
      },
      "source": [
        "Y = df['Salary']\n",
        "Y.head(5)"
      ],
      "execution_count": 6,
      "outputs": [
        {
          "output_type": "execute_result",
          "data": {
            "text/plain": [
              "0    270000\n",
              "1    200000\n",
              "2    240000\n",
              "3    250000\n",
              "4    180000\n",
              "Name: Salary, dtype: int64"
            ]
          },
          "metadata": {},
          "execution_count": 6
        }
      ]
    },
    {
      "cell_type": "code",
      "metadata": {
        "id": "fHe8FwsPYvfq"
      },
      "source": [
        "from sklearn.model_selection import train_test_split"
      ],
      "execution_count": 7,
      "outputs": []
    },
    {
      "cell_type": "code",
      "metadata": {
        "id": "27EEuu6vY6Op"
      },
      "source": [
        "train_X, test_X, train_Y, test_Y = train_test_split(X,Y,train_size = 0.8, random_state = 100)"
      ],
      "execution_count": 8,
      "outputs": []
    },
    {
      "cell_type": "code",
      "metadata": {
        "id": "a926m5xZZWsv"
      },
      "source": [
        "salary_lm = sm.OLS (train_Y, train_X).fit()"
      ],
      "execution_count": 9,
      "outputs": []
    },
    {
      "cell_type": "code",
      "metadata": {
        "colab": {
          "base_uri": "https://localhost:8080/"
        },
        "id": "J2iWnxUtZijc",
        "outputId": "62f6c3b8-ad98-475a-f1ca-c734ba0336de"
      },
      "source": [
        "print (salary_lm.params)"
      ],
      "execution_count": 10,
      "outputs": [
        {
          "output_type": "stream",
          "name": "stdout",
          "text": [
            "const                     30587.285652\n",
            "Percentage in Grade 10     3560.587383\n",
            "dtype: float64\n"
          ]
        }
      ]
    },
    {
      "cell_type": "code",
      "metadata": {
        "colab": {
          "base_uri": "https://localhost:8080/",
          "height": 307
        },
        "id": "UqXFpoLLZj-g",
        "outputId": "75756991-c4d9-4b1c-f8b4-ea106e9923d5"
      },
      "source": [
        "salary_lm.summary2()"
      ],
      "execution_count": 11,
      "outputs": [
        {
          "output_type": "execute_result",
          "data": {
            "text/html": [
              "<table class=\"simpletable\">\n",
              "<tr>\n",
              "        <td>Model:</td>               <td>OLS</td>         <td>Adj. R-squared:</td>      <td>0.190</td>  \n",
              "</tr>\n",
              "<tr>\n",
              "  <td>Dependent Variable:</td>      <td>Salary</td>             <td>AIC:</td>          <td>1008.8680</td>\n",
              "</tr>\n",
              "<tr>\n",
              "         <td>Date:</td>        <td>2021-09-02 19:41</td>        <td>BIC:</td>          <td>1012.2458</td>\n",
              "</tr>\n",
              "<tr>\n",
              "   <td>No. Observations:</td>         <td>40</td>          <td>Log-Likelihood:</td>     <td>-502.43</td> \n",
              "</tr>\n",
              "<tr>\n",
              "       <td>Df Model:</td>              <td>1</td>           <td>F-statistic:</td>        <td>10.16</td>  \n",
              "</tr>\n",
              "<tr>\n",
              "     <td>Df Residuals:</td>           <td>38</td>        <td>Prob (F-statistic):</td>   <td>0.00287</td> \n",
              "</tr>\n",
              "<tr>\n",
              "      <td>R-squared:</td>            <td>0.211</td>            <td>Scale:</td>        <td>5.0121e+09</td>\n",
              "</tr>\n",
              "</table>\n",
              "<table class=\"simpletable\">\n",
              "<tr>\n",
              "             <td></td>               <th>Coef.</th>    <th>Std.Err.</th>     <th>t</th>    <th>P>|t|</th>    <th>[0.025</th>      <th>0.975]</th>   \n",
              "</tr>\n",
              "<tr>\n",
              "  <th>const</th>                  <td>30587.2857</td> <td>71869.4497</td> <td>0.4256</td> <td>0.6728</td> <td>-114904.8089</td> <td>176079.3802</td>\n",
              "</tr>\n",
              "<tr>\n",
              "  <th>Percentage in Grade 10</th>  <td>3560.5874</td>  <td>1116.9258</td> <td>3.1878</td> <td>0.0029</td>   <td>1299.4892</td>   <td>5821.6855</td> \n",
              "</tr>\n",
              "</table>\n",
              "<table class=\"simpletable\">\n",
              "<tr>\n",
              "     <td>Omnibus:</td>    <td>2.048</td>  <td>Durbin-Watson:</td>   <td>2.611</td>\n",
              "</tr>\n",
              "<tr>\n",
              "  <td>Prob(Omnibus):</td> <td>0.359</td> <td>Jarque-Bera (JB):</td> <td>1.724</td>\n",
              "</tr>\n",
              "<tr>\n",
              "       <td>Skew:</td>     <td>0.369</td>     <td>Prob(JB):</td>     <td>0.422</td>\n",
              "</tr>\n",
              "<tr>\n",
              "     <td>Kurtosis:</td>   <td>2.300</td>  <td>Condition No.:</td>    <td>413</td> \n",
              "</tr>\n",
              "</table>"
            ],
            "text/plain": [
              "<class 'statsmodels.iolib.summary2.Summary'>\n",
              "\"\"\"\n",
              "                          Results: Ordinary least squares\n",
              "===================================================================================\n",
              "Model:                    OLS                   Adj. R-squared:          0.190     \n",
              "Dependent Variable:       Salary                AIC:                     1008.8680 \n",
              "Date:                     2021-09-02 19:41      BIC:                     1012.2458 \n",
              "No. Observations:         40                    Log-Likelihood:          -502.43   \n",
              "Df Model:                 1                     F-statistic:             10.16     \n",
              "Df Residuals:             38                    Prob (F-statistic):      0.00287   \n",
              "R-squared:                0.211                 Scale:                   5.0121e+09\n",
              "-----------------------------------------------------------------------------------\n",
              "                         Coef.     Std.Err.    t    P>|t|     [0.025       0.975]  \n",
              "-----------------------------------------------------------------------------------\n",
              "const                  30587.2857 71869.4497 0.4256 0.6728 -114904.8089 176079.3802\n",
              "Percentage in Grade 10  3560.5874  1116.9258 3.1878 0.0029    1299.4892   5821.6855\n",
              "-----------------------------------------------------------------------------------\n",
              "Omnibus:                    2.048              Durbin-Watson:                 2.611\n",
              "Prob(Omnibus):              0.359              Jarque-Bera (JB):              1.724\n",
              "Skew:                       0.369              Prob(JB):                      0.422\n",
              "Kurtosis:                   2.300              Condition No.:                 413  \n",
              "===================================================================================\n",
              "\n",
              "\"\"\""
            ]
          },
          "metadata": {},
          "execution_count": 11
        }
      ]
    },
    {
      "cell_type": "code",
      "metadata": {
        "id": "31BtbOEtZ_lb"
      },
      "source": [
        "import matplotlib.pyplot as plt\n",
        "import seaborn as sns\n",
        "%matplotlib inline"
      ],
      "execution_count": 12,
      "outputs": []
    },
    {
      "cell_type": "code",
      "metadata": {
        "colab": {
          "base_uri": "https://localhost:8080/",
          "height": 312
        },
        "id": "0jAjzoEoaThY",
        "outputId": "03eb8ade-bd21-487f-d238-a0d7c1028099"
      },
      "source": [
        "salary_resid = salary_lm.resid\n",
        "probplot = sm.ProbPlot(salary_resid)\n",
        "plt.figure (figsize = (8,6))\n",
        "probplot.ppplot (line = '45')\n",
        "plt.title ('P-P plot of residuals')\n",
        "plt.show()"
      ],
      "execution_count": 13,
      "outputs": [
        {
          "output_type": "display_data",
          "data": {
            "text/plain": [
              "<Figure size 576x432 with 0 Axes>"
            ]
          },
          "metadata": {}
        },
        {
          "output_type": "display_data",
          "data": {
            "image/png": "[encoded data removed]",
            "text/plain": [
              "<Figure size 432x288 with 1 Axes>"
            ]
          },
          "metadata": {
            "needs_background": "light"
          }
        }
      ]
    },
    {
      "cell_type": "code",
      "metadata": {
        "id": "hLppdOSQa1Xt"
      },
      "source": [
        "pred_Y = salary_lm.predict(test_X)"
      ],
      "execution_count": 14,
      "outputs": []
    },
    {
      "cell_type": "code",
      "metadata": {
        "id": "Hkuid8Vsbhlf"
      },
      "source": [
        "from sklearn.metrics import mean_squared_error, r2_score"
      ],
      "execution_count": 15,
      "outputs": []
    },
    {
      "cell_type": "code",
      "metadata": {
        "colab": {
          "base_uri": "https://localhost:8080/"
        },
        "id": "l7Esi2Jjbzoc",
        "outputId": "c51655b2-941b-49bd-d027-5c14980ae341"
      },
      "source": [
        "np.abs (r2_score(test_Y, pred_Y))"
      ],
      "execution_count": 16,
      "outputs": [
        {
          "output_type": "execute_result",
          "data": {
            "text/plain": [
              "0.156645849742304"
            ]
          },
          "metadata": {},
          "execution_count": 16
        }
      ]
    },
    {
      "cell_type": "code",
      "metadata": {
        "colab": {
          "base_uri": "https://localhost:8080/"
        },
        "id": "FCZp0tFrb6FD",
        "outputId": "c24fcbd1-23ce-4420-b5bd-739f0cc28339"
      },
      "source": [
        "np.sqrt (mean_squared_error(test_Y, pred_Y))"
      ],
      "execution_count": 17,
      "outputs": [
        {
          "output_type": "execute_result",
          "data": {
            "text/plain": [
              "73458.04348346895"
            ]
          },
          "metadata": {},
          "execution_count": 17
        }
      ]
    },
    {
      "cell_type": "code",
      "metadata": {
        "id": "_uyIoYBvcBHk"
      },
      "source": [
        "from statsmodels.sandbox.regression.predstd import wls_prediction_std\n",
        "\n",
        "pred_Y = salary_lm.predict(test_X)"
      ],
      "execution_count": 18,
      "outputs": []
    },
    {
      "cell_type": "code",
      "metadata": {
        "id": "fihV3J3ichDX"
      },
      "source": [
        "_ , pred_y_low, pred_y_high = wls_prediction_std (salary_lm, test_X , alpha = 0.1)\n",
        "pred_y_df = pd.DataFrame ({'grade_10_perc': test_X['Percentage in Grade 10'], \n",
        "                           'pred_Y' : pred_Y, \n",
        "                           'pred_Y_left' : pred_y_low, \n",
        "                           'pred_Y_right' : pred_y_high})"
      ],
      "execution_count": 19,
      "outputs": []
    },
    {
      "cell_type": "code",
      "metadata": {
        "colab": {
          "base_uri": "https://localhost:8080/",
          "height": 203
        },
        "id": "4pF1PzD1dV7W",
        "outputId": "acf5d804-ab45-4f0f-9824-c146c7dbae60"
      },
      "source": [
        "pred_y_df.head()"
      ],
      "execution_count": 20,
      "outputs": [
        {
          "output_type": "execute_result",
          "data": {
            "text/html": [
              "<div>\n",
              "<style scoped>\n",
              "    .dataframe tbody tr th:only-of-type {\n",
              "        vertical-align: middle;\n",
              "    }\n",
              "\n",
              "    .dataframe tbody tr th {\n",
              "        vertical-align: top;\n",
              "    }\n",
              "\n",
              "    .dataframe thead th {\n",
              "        text-align: right;\n",
              "    }\n",
              "</style>\n",
              "<table border=\"1\" class=\"dataframe\">\n",
              "  <thead>\n",
              "    <tr style=\"text-align: right;\">\n",
              "      <th></th>\n",
              "      <th>grade_10_perc</th>\n",
              "      <th>pred_Y</th>\n",
              "      <th>pred_Y_left</th>\n",
              "      <th>pred_Y_right</th>\n",
              "    </tr>\n",
              "  </thead>\n",
              "  <tbody>\n",
              "    <tr>\n",
              "      <th>6</th>\n",
              "      <td>70.0</td>\n",
              "      <td>279828.402452</td>\n",
              "      <td>158379.832044</td>\n",
              "      <td>401276.972860</td>\n",
              "    </tr>\n",
              "    <tr>\n",
              "      <th>36</th>\n",
              "      <td>68.0</td>\n",
              "      <td>272707.227686</td>\n",
              "      <td>151576.715020</td>\n",
              "      <td>393837.740352</td>\n",
              "    </tr>\n",
              "    <tr>\n",
              "      <th>37</th>\n",
              "      <td>52.0</td>\n",
              "      <td>215737.829560</td>\n",
              "      <td>92950.942395</td>\n",
              "      <td>338524.716726</td>\n",
              "    </tr>\n",
              "    <tr>\n",
              "      <th>28</th>\n",
              "      <td>58.0</td>\n",
              "      <td>237101.353858</td>\n",
              "      <td>115806.869618</td>\n",
              "      <td>358395.838097</td>\n",
              "    </tr>\n",
              "    <tr>\n",
              "      <th>43</th>\n",
              "      <td>74.5</td>\n",
              "      <td>295851.045675</td>\n",
              "      <td>173266.083342</td>\n",
              "      <td>418436.008008</td>\n",
              "    </tr>\n",
              "  </tbody>\n",
              "</table>\n",
              "</div>"
            ],
            "text/plain": [
              "    grade_10_perc         pred_Y    pred_Y_left   pred_Y_right\n",
              "6            70.0  279828.402452  158379.832044  401276.972860\n",
              "36           68.0  272707.227686  151576.715020  393837.740352\n",
              "37           52.0  215737.829560   92950.942395  338524.716726\n",
              "28           58.0  237101.353858  115806.869618  358395.838097\n",
              "43           74.5  295851.045675  173266.083342  418436.008008"
            ]
          },
          "metadata": {},
          "execution_count": 20
        }
      ]
    },
    {
      "cell_type": "markdown",
      "metadata": {
        "id": "60PrSBG4exyd"
      },
      "source": [
        "#Multiple Regression\n",
        "## Dataset used : IPL Dataset"
      ]
    },
    {
      "cell_type": "code",
      "metadata": {
        "colab": {
          "base_uri": "https://localhost:8080/",
          "height": 324
        },
        "id": "5vln6JdqeMjp",
        "outputId": "a747b333-1d22-43ab-a125-706545e3c383"
      },
      "source": [
        "df = pd.read_csv ('IPL IMB381IPL2013.csv')\n",
        "df.head()"
      ],
      "execution_count": 21,
      "outputs": [
        {
          "output_type": "execute_result",
          "data": {
            "text/html": [
              "<div>\n",
              "<style scoped>\n",
              "    .dataframe tbody tr th:only-of-type {\n",
              "        vertical-align: middle;\n",
              "    }\n",
              "\n",
              "    .dataframe tbody tr th {\n",
              "        vertical-align: top;\n",
              "    }\n",
              "\n",
              "    .dataframe thead th {\n",
              "        text-align: right;\n",
              "    }\n",
              "</style>\n",
              "<table border=\"1\" class=\"dataframe\">\n",
              "  <thead>\n",
              "    <tr style=\"text-align: right;\">\n",
              "      <th></th>\n",
              "      <th>Sl.NO.</th>\n",
              "      <th>PLAYER NAME</th>\n",
              "      <th>AGE</th>\n",
              "      <th>COUNTRY</th>\n",
              "      <th>TEAM</th>\n",
              "      <th>PLAYING ROLE</th>\n",
              "      <th>T-RUNS</th>\n",
              "      <th>T-WKTS</th>\n",
              "      <th>ODI-RUNS-S</th>\n",
              "      <th>ODI-SR-B</th>\n",
              "      <th>ODI-WKTS</th>\n",
              "      <th>ODI-SR-BL</th>\n",
              "      <th>CAPTAINCY EXP</th>\n",
              "      <th>RUNS-S</th>\n",
              "      <th>HS</th>\n",
              "      <th>AVE</th>\n",
              "      <th>SR-B</th>\n",
              "      <th>SIXERS</th>\n",
              "      <th>RUNS-C</th>\n",
              "      <th>WKTS</th>\n",
              "      <th>AVE-BL</th>\n",
              "      <th>ECON</th>\n",
              "      <th>SR-BL</th>\n",
              "      <th>AUCTION YEAR</th>\n",
              "      <th>BASE PRICE</th>\n",
              "      <th>SOLD PRICE</th>\n",
              "    </tr>\n",
              "  </thead>\n",
              "  <tbody>\n",
              "    <tr>\n",
              "      <th>0</th>\n",
              "      <td>1</td>\n",
              "      <td>Abdulla, YA</td>\n",
              "      <td>2</td>\n",
              "      <td>SA</td>\n",
              "      <td>KXIP</td>\n",
              "      <td>Allrounder</td>\n",
              "      <td>0</td>\n",
              "      <td>0</td>\n",
              "      <td>0</td>\n",
              "      <td>0.00</td>\n",
              "      <td>0</td>\n",
              "      <td>0.0</td>\n",
              "      <td>0</td>\n",
              "      <td>0</td>\n",
              "      <td>0</td>\n",
              "      <td>0.00</td>\n",
              "      <td>0.00</td>\n",
              "      <td>0</td>\n",
              "      <td>307</td>\n",
              "      <td>15</td>\n",
              "      <td>20.47</td>\n",
              "      <td>8.90</td>\n",
              "      <td>13.93</td>\n",
              "      <td>2009</td>\n",
              "      <td>50000</td>\n",
              "      <td>50000</td>\n",
              "    </tr>\n",
              "    <tr>\n",
              "      <th>1</th>\n",
              "      <td>2</td>\n",
              "      <td>Abdur Razzak</td>\n",
              "      <td>2</td>\n",
              "      <td>BAN</td>\n",
              "      <td>RCB</td>\n",
              "      <td>Bowler</td>\n",
              "      <td>214</td>\n",
              "      <td>18</td>\n",
              "      <td>657</td>\n",
              "      <td>71.41</td>\n",
              "      <td>185</td>\n",
              "      <td>37.6</td>\n",
              "      <td>0</td>\n",
              "      <td>0</td>\n",
              "      <td>0</td>\n",
              "      <td>0.00</td>\n",
              "      <td>0.00</td>\n",
              "      <td>0</td>\n",
              "      <td>29</td>\n",
              "      <td>0</td>\n",
              "      <td>0.00</td>\n",
              "      <td>14.50</td>\n",
              "      <td>0.00</td>\n",
              "      <td>2008</td>\n",
              "      <td>50000</td>\n",
              "      <td>50000</td>\n",
              "    </tr>\n",
              "    <tr>\n",
              "      <th>2</th>\n",
              "      <td>3</td>\n",
              "      <td>Agarkar, AB</td>\n",
              "      <td>2</td>\n",
              "      <td>IND</td>\n",
              "      <td>KKR</td>\n",
              "      <td>Bowler</td>\n",
              "      <td>571</td>\n",
              "      <td>58</td>\n",
              "      <td>1269</td>\n",
              "      <td>80.62</td>\n",
              "      <td>288</td>\n",
              "      <td>32.9</td>\n",
              "      <td>0</td>\n",
              "      <td>167</td>\n",
              "      <td>39</td>\n",
              "      <td>18.56</td>\n",
              "      <td>121.01</td>\n",
              "      <td>5</td>\n",
              "      <td>1059</td>\n",
              "      <td>29</td>\n",
              "      <td>36.52</td>\n",
              "      <td>8.81</td>\n",
              "      <td>24.90</td>\n",
              "      <td>2008</td>\n",
              "      <td>200000</td>\n",
              "      <td>350000</td>\n",
              "    </tr>\n",
              "    <tr>\n",
              "      <th>3</th>\n",
              "      <td>4</td>\n",
              "      <td>Ashwin, R</td>\n",
              "      <td>1</td>\n",
              "      <td>IND</td>\n",
              "      <td>CSK</td>\n",
              "      <td>Bowler</td>\n",
              "      <td>284</td>\n",
              "      <td>31</td>\n",
              "      <td>241</td>\n",
              "      <td>84.56</td>\n",
              "      <td>51</td>\n",
              "      <td>36.8</td>\n",
              "      <td>0</td>\n",
              "      <td>58</td>\n",
              "      <td>11</td>\n",
              "      <td>5.80</td>\n",
              "      <td>76.32</td>\n",
              "      <td>0</td>\n",
              "      <td>1125</td>\n",
              "      <td>49</td>\n",
              "      <td>22.96</td>\n",
              "      <td>6.23</td>\n",
              "      <td>22.14</td>\n",
              "      <td>2011</td>\n",
              "      <td>100000</td>\n",
              "      <td>850000</td>\n",
              "    </tr>\n",
              "    <tr>\n",
              "      <th>4</th>\n",
              "      <td>5</td>\n",
              "      <td>Badrinath, S</td>\n",
              "      <td>2</td>\n",
              "      <td>IND</td>\n",
              "      <td>CSK</td>\n",
              "      <td>Batsman</td>\n",
              "      <td>63</td>\n",
              "      <td>0</td>\n",
              "      <td>79</td>\n",
              "      <td>45.93</td>\n",
              "      <td>0</td>\n",
              "      <td>0.0</td>\n",
              "      <td>0</td>\n",
              "      <td>1317</td>\n",
              "      <td>71</td>\n",
              "      <td>32.93</td>\n",
              "      <td>120.71</td>\n",
              "      <td>28</td>\n",
              "      <td>0</td>\n",
              "      <td>0</td>\n",
              "      <td>0.00</td>\n",
              "      <td>0.00</td>\n",
              "      <td>0.00</td>\n",
              "      <td>2011</td>\n",
              "      <td>100000</td>\n",
              "      <td>800000</td>\n",
              "    </tr>\n",
              "  </tbody>\n",
              "</table>\n",
              "</div>"
            ],
            "text/plain": [
              "   Sl.NO.   PLAYER NAME  AGE  ... AUCTION YEAR BASE PRICE SOLD PRICE\n",
              "0       1   Abdulla, YA    2  ...         2009      50000      50000\n",
              "1       2  Abdur Razzak    2  ...         2008      50000      50000\n",
              "2       3   Agarkar, AB    2  ...         2008     200000     350000\n",
              "3       4     Ashwin, R    1  ...         2011     100000     850000\n",
              "4       5  Badrinath, S    2  ...         2011     100000     800000\n",
              "\n",
              "[5 rows x 26 columns]"
            ]
          },
          "metadata": {},
          "execution_count": 21
        }
      ]
    },
    {
      "cell_type": "code",
      "metadata": {
        "id": "C9hkrpqgfEWm",
        "colab": {
          "base_uri": "https://localhost:8080/"
        },
        "outputId": "58c5b3c6-e4b5-4c9d-e8c4-030c46ffbd45"
      },
      "source": [
        "df.info()"
      ],
      "execution_count": 22,
      "outputs": [
        {
          "output_type": "stream",
          "name": "stdout",
          "text": [
            "<class 'pandas.core.frame.DataFrame'>\n",
            "RangeIndex: 130 entries, 0 to 129\n",
            "Data columns (total 26 columns):\n",
            " #   Column         Non-Null Count  Dtype  \n",
            "---  ------         --------------  -----  \n",
            " 0   Sl.NO.         130 non-null    int64  \n",
            " 1   PLAYER NAME    130 non-null    object \n",
            " 2   AGE            130 non-null    int64  \n",
            " 3   COUNTRY        130 non-null    object \n",
            " 4   TEAM           130 non-null    object \n",
            " 5   PLAYING ROLE   130 non-null    object \n",
            " 6   T-RUNS         130 non-null    int64  \n",
            " 7   T-WKTS         130 non-null    int64  \n",
            " 8   ODI-RUNS-S     130 non-null    int64  \n",
            " 9   ODI-SR-B       130 non-null    float64\n",
            " 10  ODI-WKTS       130 non-null    int64  \n",
            " 11  ODI-SR-BL      130 non-null    float64\n",
            " 12  CAPTAINCY EXP  130 non-null    int64  \n",
            " 13  RUNS-S         130 non-null    int64  \n",
            " 14  HS             130 non-null    int64  \n",
            " 15  AVE            130 non-null    float64\n",
            " 16  SR-B           130 non-null    float64\n",
            " 17  SIXERS         130 non-null    int64  \n",
            " 18  RUNS-C         130 non-null    int64  \n",
            " 19  WKTS           130 non-null    int64  \n",
            " 20  AVE-BL         130 non-null    float64\n",
            " 21  ECON           130 non-null    float64\n",
            " 22  SR-BL          130 non-null    float64\n",
            " 23  AUCTION YEAR   130 non-null    int64  \n",
            " 24  BASE PRICE     130 non-null    int64  \n",
            " 25  SOLD PRICE     130 non-null    int64  \n",
            "dtypes: float64(7), int64(15), object(4)\n",
            "memory usage: 26.5+ KB\n"
          ]
        }
      ]
    },
    {
      "cell_type": "code",
      "metadata": {
        "id": "cWyaXaWLbqLk"
      },
      "source": [
        "X_features = df.columns"
      ],
      "execution_count": 23,
      "outputs": []
    },
    {
      "cell_type": "code",
      "metadata": {
        "colab": {
          "base_uri": "https://localhost:8080/"
        },
        "id": "HOJmD5lDhjex",
        "outputId": "82300fea-2a96-4066-8d11-39985d083701"
      },
      "source": [
        "df.columns"
      ],
      "execution_count": 24,
      "outputs": [
        {
          "output_type": "execute_result",
          "data": {
            "text/plain": [
              "Index(['Sl.NO.', 'PLAYER NAME', 'AGE', 'COUNTRY', 'TEAM', 'PLAYING ROLE',\n",
              "       'T-RUNS', 'T-WKTS', 'ODI-RUNS-S', 'ODI-SR-B', 'ODI-WKTS', 'ODI-SR-BL',\n",
              "       'CAPTAINCY EXP', 'RUNS-S', 'HS', 'AVE', 'SR-B', 'SIXERS', 'RUNS-C',\n",
              "       'WKTS', 'AVE-BL', 'ECON', 'SR-BL', 'AUCTION YEAR', 'BASE PRICE',\n",
              "       'SOLD PRICE'],\n",
              "      dtype='object')"
            ]
          },
          "metadata": {},
          "execution_count": 24
        }
      ]
    },
    {
      "cell_type": "code",
      "metadata": {
        "colab": {
          "base_uri": "https://localhost:8080/"
        },
        "id": "8LbDgUu6bwGt",
        "outputId": "92d4399d-50c8-41d3-f3d4-1eda3703228e"
      },
      "source": [
        "df['PLAYING ROLE'].unique()"
      ],
      "execution_count": 25,
      "outputs": [
        {
          "output_type": "execute_result",
          "data": {
            "text/plain": [
              "array(['Allrounder', 'Bowler', 'Batsman', 'W. Keeper'], dtype=object)"
            ]
          },
          "metadata": {},
          "execution_count": 25
        }
      ]
    },
    {
      "cell_type": "code",
      "metadata": {
        "colab": {
          "base_uri": "https://localhost:8080/",
          "height": 203
        },
        "id": "FC9NNH0cbxsC",
        "outputId": "545a7edd-f5b3-45b8-836f-2c2618a2465f"
      },
      "source": [
        "pd.get_dummies(df['PLAYING ROLE'])[0:5]"
      ],
      "execution_count": 26,
      "outputs": [
        {
          "output_type": "execute_result",
          "data": {
            "text/html": [
              "<div>\n",
              "<style scoped>\n",
              "    .dataframe tbody tr th:only-of-type {\n",
              "        vertical-align: middle;\n",
              "    }\n",
              "\n",
              "    .dataframe tbody tr th {\n",
              "        vertical-align: top;\n",
              "    }\n",
              "\n",
              "    .dataframe thead th {\n",
              "        text-align: right;\n",
              "    }\n",
              "</style>\n",
              "<table border=\"1\" class=\"dataframe\">\n",
              "  <thead>\n",
              "    <tr style=\"text-align: right;\">\n",
              "      <th></th>\n",
              "      <th>Allrounder</th>\n",
              "      <th>Batsman</th>\n",
              "      <th>Bowler</th>\n",
              "      <th>W. Keeper</th>\n",
              "    </tr>\n",
              "  </thead>\n",
              "  <tbody>\n",
              "    <tr>\n",
              "      <th>0</th>\n",
              "      <td>1</td>\n",
              "      <td>0</td>\n",
              "      <td>0</td>\n",
              "      <td>0</td>\n",
              "    </tr>\n",
              "    <tr>\n",
              "      <th>1</th>\n",
              "      <td>0</td>\n",
              "      <td>0</td>\n",
              "      <td>1</td>\n",
              "      <td>0</td>\n",
              "    </tr>\n",
              "    <tr>\n",
              "      <th>2</th>\n",
              "      <td>0</td>\n",
              "      <td>0</td>\n",
              "      <td>1</td>\n",
              "      <td>0</td>\n",
              "    </tr>\n",
              "    <tr>\n",
              "      <th>3</th>\n",
              "      <td>0</td>\n",
              "      <td>0</td>\n",
              "      <td>1</td>\n",
              "      <td>0</td>\n",
              "    </tr>\n",
              "    <tr>\n",
              "      <th>4</th>\n",
              "      <td>0</td>\n",
              "      <td>1</td>\n",
              "      <td>0</td>\n",
              "      <td>0</td>\n",
              "    </tr>\n",
              "  </tbody>\n",
              "</table>\n",
              "</div>"
            ],
            "text/plain": [
              "   Allrounder  Batsman  Bowler  W. Keeper\n",
              "0           1        0       0          0\n",
              "1           0        0       1          0\n",
              "2           0        0       1          0\n",
              "3           0        0       1          0\n",
              "4           0        1       0          0"
            ]
          },
          "metadata": {},
          "execution_count": 26
        }
      ]
    },
    {
      "cell_type": "code",
      "metadata": {
        "id": "g4UgD-5Fg8-E"
      },
      "source": [
        "X_features = ['AGE', 'COUNTRY', 'PLAYING ROLE',\n",
        "       'T-RUNS', 'T-WKTS', 'ODI-RUNS-S', 'ODI-SR-B', 'ODI-WKTS', 'ODI-SR-BL',\n",
        "       'CAPTAINCY EXP', 'RUNS-S', 'HS', 'AVE', 'SR-B', 'SIXERS', 'RUNS-C',\n",
        "       'WKTS', 'AVE-BL', 'ECON', 'SR-BL']"
      ],
      "execution_count": 27,
      "outputs": []
    },
    {
      "cell_type": "code",
      "metadata": {
        "id": "9PvWPysfcqNi"
      },
      "source": [
        "categorical_features = ['AGE', 'COUNTRY','PLAYING ROLE','CAPTAINCY EXP']"
      ],
      "execution_count": 28,
      "outputs": []
    },
    {
      "cell_type": "code",
      "metadata": {
        "id": "ojCi12Gzdfp4"
      },
      "source": [
        "encoded_df = pd.get_dummies (df[X_features], columns = categorical_features, drop_first= True)"
      ],
      "execution_count": 29,
      "outputs": []
    },
    {
      "cell_type": "code",
      "metadata": {
        "colab": {
          "base_uri": "https://localhost:8080/"
        },
        "id": "cYqwHKgmeHdN",
        "outputId": "78d4a131-f942-4510-8364-3796e649d564"
      },
      "source": [
        "encoded_df.columns"
      ],
      "execution_count": 30,
      "outputs": [
        {
          "output_type": "execute_result",
          "data": {
            "text/plain": [
              "Index(['T-RUNS', 'T-WKTS', 'ODI-RUNS-S', 'ODI-SR-B', 'ODI-WKTS', 'ODI-SR-BL',\n",
              "       'RUNS-S', 'HS', 'AVE', 'SR-B', 'SIXERS', 'RUNS-C', 'WKTS', 'AVE-BL',\n",
              "       'ECON', 'SR-BL', 'AGE_2', 'AGE_3', 'COUNTRY_BAN', 'COUNTRY_ENG',\n",
              "       'COUNTRY_IND', 'COUNTRY_NZ', 'COUNTRY_PAK', 'COUNTRY_SA', 'COUNTRY_SL',\n",
              "       'COUNTRY_WI', 'COUNTRY_ZIM', 'PLAYING ROLE_Batsman',\n",
              "       'PLAYING ROLE_Bowler', 'PLAYING ROLE_W. Keeper', 'CAPTAINCY EXP_1'],\n",
              "      dtype='object')"
            ]
          },
          "metadata": {},
          "execution_count": 30
        }
      ]
    },
    {
      "cell_type": "code",
      "metadata": {
        "id": "6FLN1B3leJk_"
      },
      "source": [
        "X_features = encoded_df.columns"
      ],
      "execution_count": 31,
      "outputs": []
    },
    {
      "cell_type": "code",
      "metadata": {
        "id": "S4yeovQ9eUjh"
      },
      "source": [
        "X = sm.add_constant(encoded_df)\n",
        "y = df['SOLD PRICE']"
      ],
      "execution_count": 32,
      "outputs": []
    },
    {
      "cell_type": "code",
      "metadata": {
        "id": "olgbUGnzejIt"
      },
      "source": [
        "train_X, test_X, train_y, test_y = train_test_split (X, y, train_size = 0.8, random_state = 42)"
      ],
      "execution_count": 33,
      "outputs": []
    },
    {
      "cell_type": "code",
      "metadata": {
        "colab": {
          "base_uri": "https://localhost:8080/",
          "height": 919
        },
        "id": "VKRL2_auew3v",
        "outputId": "a9d38e6f-c12e-442a-ff2e-1896317405ce"
      },
      "source": [
        "model_1 = sm.OLS (train_y, train_X).fit()\n",
        "model_1.summary2()"
      ],
      "execution_count": 34,
      "outputs": [
        {
          "output_type": "execute_result",
          "data": {
            "text/html": [
              "<table class=\"simpletable\">\n",
              "<tr>\n",
              "        <td>Model:</td>               <td>OLS</td>         <td>Adj. R-squared:</td>      <td>0.362</td>  \n",
              "</tr>\n",
              "<tr>\n",
              "  <td>Dependent Variable:</td>    <td>SOLD PRICE</td>           <td>AIC:</td>          <td>2965.2841</td>\n",
              "</tr>\n",
              "<tr>\n",
              "         <td>Date:</td>        <td>2021-09-02 19:41</td>        <td>BIC:</td>          <td>3049.9046</td>\n",
              "</tr>\n",
              "<tr>\n",
              "   <td>No. Observations:</td>         <td>104</td>         <td>Log-Likelihood:</td>     <td>-1450.6</td> \n",
              "</tr>\n",
              "<tr>\n",
              "       <td>Df Model:</td>             <td>31</td>           <td>F-statistic:</td>        <td>2.883</td>  \n",
              "</tr>\n",
              "<tr>\n",
              "     <td>Df Residuals:</td>           <td>72</td>        <td>Prob (F-statistic):</td>  <td>0.000114</td> \n",
              "</tr>\n",
              "<tr>\n",
              "      <td>R-squared:</td>            <td>0.554</td>            <td>Scale:</td>        <td>1.1034e+11</td>\n",
              "</tr>\n",
              "</table>\n",
              "<table class=\"simpletable\">\n",
              "<tr>\n",
              "             <td></td>                <th>Coef.</th>     <th>Std.Err.</th>      <th>t</th>     <th>P>|t|</th>    <th>[0.025</th>       <th>0.975]</th>   \n",
              "</tr>\n",
              "<tr>\n",
              "  <th>const</th>                   <td>375827.1991</td> <td>228849.9306</td> <td>1.6422</td>  <td>0.1049</td>  <td>-80376.7996</td>  <td>832031.1978</td>\n",
              "</tr>\n",
              "<tr>\n",
              "  <th>T-RUNS</th>                   <td>-53.7890</td>     <td>32.7172</td>   <td>-1.6441</td> <td>0.1045</td>   <td>-119.0096</td>     <td>11.4316</td>  \n",
              "</tr>\n",
              "<tr>\n",
              "  <th>T-WKTS</th>                   <td>-132.5967</td>   <td>609.7525</td>   <td>-0.2175</td> <td>0.8285</td>  <td>-1348.1162</td>    <td>1082.9228</td> \n",
              "</tr>\n",
              "<tr>\n",
              "  <th>ODI-RUNS-S</th>                <td>57.9600</td>     <td>31.5071</td>   <td>1.8396</td>  <td>0.0700</td>    <td>-4.8482</td>     <td>120.7681</td>  \n",
              "</tr>\n",
              "<tr>\n",
              "  <th>ODI-SR-B</th>                 <td>-524.1450</td>   <td>1576.6368</td>  <td>-0.3324</td> <td>0.7405</td>  <td>-3667.1130</td>    <td>2618.8231</td> \n",
              "</tr>\n",
              "<tr>\n",
              "  <th>ODI-WKTS</th>                 <td>815.3944</td>    <td>832.3883</td>   <td>0.9796</td>  <td>0.3306</td>   <td>-843.9413</td>    <td>2474.7301</td> \n",
              "</tr>\n",
              "<tr>\n",
              "  <th>ODI-SR-BL</th>                <td>-773.3092</td>   <td>1536.3334</td>  <td>-0.5033</td> <td>0.6163</td>  <td>-3835.9338</td>    <td>2289.3154</td> \n",
              "</tr>\n",
              "<tr>\n",
              "  <th>RUNS-S</th>                   <td>114.7205</td>    <td>173.3088</td>   <td>0.6619</td>  <td>0.5101</td>   <td>-230.7643</td>    <td>460.2054</td>  \n",
              "</tr>\n",
              "<tr>\n",
              "  <th>HS</th>                      <td>-5516.3354</td>   <td>2586.3277</td>  <td>-2.1329</td> <td>0.0363</td>  <td>-10672.0855</td>   <td>-360.5853</td> \n",
              "</tr>\n",
              "<tr>\n",
              "  <th>AVE</th>                     <td>21560.2760</td>   <td>7774.2419</td>  <td>2.7733</td>  <td>0.0071</td>   <td>6062.6080</td>   <td>37057.9439</td> \n",
              "</tr>\n",
              "<tr>\n",
              "  <th>SR-B</th>                    <td>-1324.7218</td>   <td>1373.1303</td>  <td>-0.9647</td> <td>0.3379</td>  <td>-4062.0071</td>    <td>1412.5635</td> \n",
              "</tr>\n",
              "<tr>\n",
              "  <th>SIXERS</th>                   <td>4264.1001</td>   <td>4089.6000</td>  <td>1.0427</td>  <td>0.3006</td>  <td>-3888.3685</td>   <td>12416.5687</td> \n",
              "</tr>\n",
              "<tr>\n",
              "  <th>RUNS-C</th>                    <td>69.8250</td>    <td>297.6697</td>   <td>0.2346</td>  <td>0.8152</td>   <td>-523.5687</td>    <td>663.2187</td>  \n",
              "</tr>\n",
              "<tr>\n",
              "  <th>WKTS</th>                     <td>3075.2422</td>   <td>7262.4452</td>  <td>0.4234</td>  <td>0.6732</td>  <td>-11402.1778</td>  <td>17552.6622</td> \n",
              "</tr>\n",
              "<tr>\n",
              "  <th>AVE-BL</th>                   <td>5182.9335</td>  <td>10230.1581</td>  <td>0.5066</td>  <td>0.6140</td>  <td>-15210.5140</td>  <td>25576.3810</td> \n",
              "</tr>\n",
              "<tr>\n",
              "  <th>ECON</th>                    <td>-6820.7781</td>  <td>13109.3693</td>  <td>-0.5203</td> <td>0.6045</td>  <td>-32953.8282</td>  <td>19312.2721</td> \n",
              "</tr>\n",
              "<tr>\n",
              "  <th>SR-BL</th>                   <td>-7658.8094</td>  <td>14041.8735</td>  <td>-0.5454</td> <td>0.5871</td>  <td>-35650.7726</td>  <td>20333.1539</td> \n",
              "</tr>\n",
              "<tr>\n",
              "  <th>AGE_2</th>                  <td>-230767.6463</td> <td>114117.2005</td> <td>-2.0222</td> <td>0.0469</td> <td>-458256.1279</td>  <td>-3279.1648</td> \n",
              "</tr>\n",
              "<tr>\n",
              "  <th>AGE_3</th>                  <td>-216827.0808</td> <td>152246.6232</td> <td>-1.4242</td> <td>0.1587</td> <td>-520325.1772</td>  <td>86671.0155</td> \n",
              "</tr>\n",
              "<tr>\n",
              "  <th>COUNTRY_BAN</th>            <td>-122103.5196</td> <td>438719.2796</td> <td>-0.2783</td> <td>0.7816</td> <td>-996674.4194</td>  <td>752467.3801</td>\n",
              "</tr>\n",
              "<tr>\n",
              "  <th>COUNTRY_ENG</th>             <td>672410.7654</td> <td>238386.2220</td> <td>2.8207</td>  <td>0.0062</td>  <td>197196.5172</td> <td>1147625.0135</td>\n",
              "</tr>\n",
              "<tr>\n",
              "  <th>COUNTRY_IND</th>             <td>155306.4011</td> <td>126316.3449</td> <td>1.2295</td>  <td>0.2229</td>  <td>-96500.6302</td>  <td>407113.4325</td>\n",
              "</tr>\n",
              "<tr>\n",
              "  <th>COUNTRY_NZ</th>              <td>194218.9120</td> <td>173491.9293</td> <td>1.1195</td>  <td>0.2667</td> <td>-151630.9280</td>  <td>540068.7521</td>\n",
              "</tr>\n",
              "<tr>\n",
              "  <th>COUNTRY_PAK</th>             <td>75921.7670</td>  <td>193463.5545</td> <td>0.3924</td>  <td>0.6959</td> <td>-309740.7804</td>  <td>461584.3143</td>\n",
              "</tr>\n",
              "<tr>\n",
              "  <th>COUNTRY_SA</th>              <td>64283.3894</td>  <td>144587.6773</td> <td>0.4446</td>  <td>0.6579</td> <td>-223946.8775</td>  <td>352513.6563</td>\n",
              "</tr>\n",
              "<tr>\n",
              "  <th>COUNTRY_SL</th>              <td>17360.1530</td>  <td>176333.7497</td> <td>0.0985</td>  <td>0.9218</td> <td>-334154.7526</td>  <td>368875.0586</td>\n",
              "</tr>\n",
              "<tr>\n",
              "  <th>COUNTRY_WI</th>              <td>10607.7792</td>  <td>230686.7892</td> <td>0.0460</td>  <td>0.9635</td> <td>-449257.9303</td>  <td>470473.4887</td>\n",
              "</tr>\n",
              "<tr>\n",
              "  <th>COUNTRY_ZIM</th>            <td>-145494.4793</td> <td>401505.2815</td> <td>-0.3624</td> <td>0.7181</td> <td>-945880.6296</td>  <td>654891.6710</td>\n",
              "</tr>\n",
              "<tr>\n",
              "  <th>PLAYING ROLE_Batsman</th>    <td>75724.7643</td>  <td>150250.0240</td> <td>0.5040</td>  <td>0.6158</td> <td>-223793.1844</td>  <td>375242.7130</td>\n",
              "</tr>\n",
              "<tr>\n",
              "  <th>PLAYING ROLE_Bowler</th>     <td>15395.8752</td>  <td>126308.1272</td> <td>0.1219</td>  <td>0.9033</td> <td>-236394.7744</td>  <td>267186.5249</td>\n",
              "</tr>\n",
              "<tr>\n",
              "  <th>PLAYING ROLE_W. Keeper</th>  <td>-71358.6280</td> <td>213585.7444</td> <td>-0.3341</td> <td>0.7393</td> <td>-497134.0278</td>  <td>354416.7718</td>\n",
              "</tr>\n",
              "<tr>\n",
              "  <th>CAPTAINCY EXP_1</th>         <td>164113.3972</td> <td>123430.6353</td> <td>1.3296</td>  <td>0.1878</td>  <td>-81941.0772</td>  <td>410167.8716</td>\n",
              "</tr>\n",
              "</table>\n",
              "<table class=\"simpletable\">\n",
              "<tr>\n",
              "     <td>Omnibus:</td>    <td>0.891</td>  <td>Durbin-Watson:</td>   <td>2.244</td>\n",
              "</tr>\n",
              "<tr>\n",
              "  <td>Prob(Omnibus):</td> <td>0.640</td> <td>Jarque-Bera (JB):</td> <td>0.638</td>\n",
              "</tr>\n",
              "<tr>\n",
              "       <td>Skew:</td>     <td>0.190</td>     <td>Prob(JB):</td>     <td>0.727</td>\n",
              "</tr>\n",
              "<tr>\n",
              "     <td>Kurtosis:</td>   <td>3.059</td>  <td>Condition No.:</td>   <td>84116</td>\n",
              "</tr>\n",
              "</table>"
            ],
            "text/plain": [
              "<class 'statsmodels.iolib.summary2.Summary'>\n",
              "\"\"\"\n",
              "                            Results: Ordinary least squares\n",
              "========================================================================================\n",
              "Model:                     OLS                     Adj. R-squared:            0.362     \n",
              "Dependent Variable:        SOLD PRICE              AIC:                       2965.2841 \n",
              "Date:                      2021-09-02 19:41        BIC:                       3049.9046 \n",
              "No. Observations:          104                     Log-Likelihood:            -1450.6   \n",
              "Df Model:                  31                      F-statistic:               2.883     \n",
              "Df Residuals:              72                      Prob (F-statistic):        0.000114  \n",
              "R-squared:                 0.554                   Scale:                     1.1034e+11\n",
              "----------------------------------------------------------------------------------------\n",
              "                          Coef.       Std.Err.     t    P>|t|     [0.025       0.975]   \n",
              "----------------------------------------------------------------------------------------\n",
              "const                   375827.1991 228849.9306  1.6422 0.1049  -80376.7996  832031.1978\n",
              "T-RUNS                     -53.7890     32.7172 -1.6441 0.1045    -119.0096      11.4316\n",
              "T-WKTS                    -132.5967    609.7525 -0.2175 0.8285   -1348.1162    1082.9228\n",
              "ODI-RUNS-S                  57.9600     31.5071  1.8396 0.0700      -4.8482     120.7681\n",
              "ODI-SR-B                  -524.1450   1576.6368 -0.3324 0.7405   -3667.1130    2618.8231\n",
              "ODI-WKTS                   815.3944    832.3883  0.9796 0.3306    -843.9413    2474.7301\n",
              "ODI-SR-BL                 -773.3092   1536.3334 -0.5033 0.6163   -3835.9338    2289.3154\n",
              "RUNS-S                     114.7205    173.3088  0.6619 0.5101    -230.7643     460.2054\n",
              "HS                       -5516.3354   2586.3277 -2.1329 0.0363  -10672.0855    -360.5853\n",
              "AVE                      21560.2760   7774.2419  2.7733 0.0071    6062.6080   37057.9439\n",
              "SR-B                     -1324.7218   1373.1303 -0.9647 0.3379   -4062.0071    1412.5635\n",
              "SIXERS                    4264.1001   4089.6000  1.0427 0.3006   -3888.3685   12416.5687\n",
              "RUNS-C                      69.8250    297.6697  0.2346 0.8152    -523.5687     663.2187\n",
              "WKTS                      3075.2422   7262.4452  0.4234 0.6732  -11402.1778   17552.6622\n",
              "AVE-BL                    5182.9335  10230.1581  0.5066 0.6140  -15210.5140   25576.3810\n",
              "ECON                     -6820.7781  13109.3693 -0.5203 0.6045  -32953.8282   19312.2721\n",
              "SR-BL                    -7658.8094  14041.8735 -0.5454 0.5871  -35650.7726   20333.1539\n",
              "AGE_2                  -230767.6463 114117.2005 -2.0222 0.0469 -458256.1279   -3279.1648\n",
              "AGE_3                  -216827.0808 152246.6232 -1.4242 0.1587 -520325.1772   86671.0155\n",
              "COUNTRY_BAN            -122103.5196 438719.2796 -0.2783 0.7816 -996674.4194  752467.3801\n",
              "COUNTRY_ENG             672410.7654 238386.2220  2.8207 0.0062  197196.5172 1147625.0135\n",
              "COUNTRY_IND             155306.4011 126316.3449  1.2295 0.2229  -96500.6302  407113.4325\n",
              "COUNTRY_NZ              194218.9120 173491.9293  1.1195 0.2667 -151630.9280  540068.7521\n",
              "COUNTRY_PAK              75921.7670 193463.5545  0.3924 0.6959 -309740.7804  461584.3143\n",
              "COUNTRY_SA               64283.3894 144587.6773  0.4446 0.6579 -223946.8775  352513.6563\n",
              "COUNTRY_SL               17360.1530 176333.7497  0.0985 0.9218 -334154.7526  368875.0586\n",
              "COUNTRY_WI               10607.7792 230686.7892  0.0460 0.9635 -449257.9303  470473.4887\n",
              "COUNTRY_ZIM            -145494.4793 401505.2815 -0.3624 0.7181 -945880.6296  654891.6710\n",
              "PLAYING ROLE_Batsman     75724.7643 150250.0240  0.5040 0.6158 -223793.1844  375242.7130\n",
              "PLAYING ROLE_Bowler      15395.8752 126308.1272  0.1219 0.9033 -236394.7744  267186.5249\n",
              "PLAYING ROLE_W. Keeper  -71358.6280 213585.7444 -0.3341 0.7393 -497134.0278  354416.7718\n",
              "CAPTAINCY EXP_1         164113.3972 123430.6353  1.3296 0.1878  -81941.0772  410167.8716\n",
              "----------------------------------------------------------------------------------------\n",
              "Omnibus:                       0.891               Durbin-Watson:                  2.244\n",
              "Prob(Omnibus):                 0.640               Jarque-Bera (JB):               0.638\n",
              "Skew:                          0.190               Prob(JB):                       0.727\n",
              "Kurtosis:                      3.059               Condition No.:                  84116\n",
              "========================================================================================\n",
              "* The condition number is large (8e+04). This might indicate             strong\n",
              "multicollinearity or other numerical problems.\n",
              "\"\"\""
            ]
          },
          "metadata": {},
          "execution_count": 34
        }
      ]
    },
    {
      "cell_type": "code",
      "metadata": {
        "id": "cbptHDZDkdQK"
      },
      "source": [
        "columns_removed = ['T-RUNS', 'T-WKTS', 'RUNS-S', 'HS',\n",
        "'AVE', 'RUNS-C', 'SR-B', 'AVE-BL',\n",
        "'ECON', 'ODI-SR-B', 'ODI-RUNS-S', 'AGE_2', 'SR-BL']"
      ],
      "execution_count": 35,
      "outputs": []
    },
    {
      "cell_type": "code",
      "metadata": {
        "id": "CkGr8wFfl2q2"
      },
      "source": [
        "X_new_features = [e for e in list(X_features) if e not in columns_removed]"
      ],
      "execution_count": 36,
      "outputs": []
    },
    {
      "cell_type": "code",
      "metadata": {
        "colab": {
          "base_uri": "https://localhost:8080/"
        },
        "id": "vJYzschqmC0l",
        "outputId": "e3df2c0a-41f6-49f1-85fb-9b8fa68a38ce"
      },
      "source": [
        "X_new_features"
      ],
      "execution_count": 37,
      "outputs": [
        {
          "output_type": "execute_result",
          "data": {
            "text/plain": [
              "['ODI-WKTS',\n",
              " 'ODI-SR-BL',\n",
              " 'SIXERS',\n",
              " 'WKTS',\n",
              " 'AGE_3',\n",
              " 'COUNTRY_BAN',\n",
              " 'COUNTRY_ENG',\n",
              " 'COUNTRY_IND',\n",
              " 'COUNTRY_NZ',\n",
              " 'COUNTRY_PAK',\n",
              " 'COUNTRY_SA',\n",
              " 'COUNTRY_SL',\n",
              " 'COUNTRY_WI',\n",
              " 'COUNTRY_ZIM',\n",
              " 'PLAYING ROLE_Batsman',\n",
              " 'PLAYING ROLE_Bowler',\n",
              " 'PLAYING ROLE_W. Keeper',\n",
              " 'CAPTAINCY EXP_1']"
            ]
          },
          "metadata": {},
          "execution_count": 37
        }
      ]
    },
    {
      "cell_type": "code",
      "metadata": {
        "colab": {
          "base_uri": "https://localhost:8080/",
          "height": 634
        },
        "id": "W7bk83vmnxch",
        "outputId": "855ad3a4-2b02-453d-866e-45b62dc0f085"
      },
      "source": [
        "train_X = train_X [X_new_features]\n",
        "\n",
        "model_2 = sm.OLS(train_y, train_X).fit()\n",
        "model_2.summary2()"
      ],
      "execution_count": 38,
      "outputs": [
        {
          "output_type": "execute_result",
          "data": {
            "text/html": [
              "<table class=\"simpletable\">\n",
              "<tr>\n",
              "          <td>Model:</td>                 <td>OLS</td>       <td>Adj. R-squared (uncentered):</td>    <td>0.728</td>  \n",
              "</tr>\n",
              "<tr>\n",
              "    <td>Dependent Variable:</td>      <td>SOLD PRICE</td>                <td>AIC:</td>              <td>2965.1080</td>\n",
              "</tr>\n",
              "<tr>\n",
              "           <td>Date:</td>          <td>2021-09-02 19:41</td>             <td>BIC:</td>              <td>3012.7070</td>\n",
              "</tr>\n",
              "<tr>\n",
              "     <td>No. Observations:</td>           <td>104</td>              <td>Log-Likelihood:</td>         <td>-1464.6</td> \n",
              "</tr>\n",
              "<tr>\n",
              "         <td>Df Model:</td>               <td>18</td>                <td>F-statistic:</td>            <td>16.49</td>  \n",
              "</tr>\n",
              "<tr>\n",
              "       <td>Df Residuals:</td>             <td>86</td>             <td>Prob (F-statistic):</td>      <td>1.13e-20</td> \n",
              "</tr>\n",
              "<tr>\n",
              "  <td>R-squared (uncentered):</td>       <td>0.775</td>                 <td>Scale:</td>            <td>1.2071e+11</td>\n",
              "</tr>\n",
              "</table>\n",
              "<table class=\"simpletable\">\n",
              "<tr>\n",
              "             <td></td>                <th>Coef.</th>     <th>Std.Err.</th>      <th>t</th>     <th>P>|t|</th>    <th>[0.025</th>       <th>0.975]</th>   \n",
              "</tr>\n",
              "<tr>\n",
              "  <th>ODI-WKTS</th>                 <td>772.4088</td>    <td>470.6354</td>   <td>1.6412</td>  <td>0.1044</td>   <td>-163.1834</td>    <td>1708.0009</td> \n",
              "</tr>\n",
              "<tr>\n",
              "  <th>ODI-SR-BL</th>                <td>909.0021</td>    <td>1267.4969</td>  <td>0.7172</td>  <td>0.4752</td>  <td>-1610.6983</td>    <td>3428.7026</td> \n",
              "</tr>\n",
              "<tr>\n",
              "  <th>SIXERS</th>                   <td>7862.1259</td>   <td>2086.6101</td>  <td>3.7679</td>  <td>0.0003</td>   <td>3714.0824</td>   <td>12010.1694</td> \n",
              "</tr>\n",
              "<tr>\n",
              "  <th>WKTS</th>                     <td>2431.8988</td>   <td>2105.3524</td>  <td>1.1551</td>  <td>0.2512</td>  <td>-1753.4033</td>    <td>6617.2008</td> \n",
              "</tr>\n",
              "<tr>\n",
              "  <th>AGE_3</th>                   <td>-8950.6659</td>  <td>98041.9325</td>  <td>-0.0913</td> <td>0.9275</td> <td>-203851.5772</td>  <td>185950.2453</td>\n",
              "</tr>\n",
              "<tr>\n",
              "  <th>COUNTRY_BAN</th>            <td>-108758.6040</td> <td>369274.1916</td> <td>-0.2945</td> <td>0.7691</td> <td>-842851.4010</td>  <td>625334.1930</td>\n",
              "</tr>\n",
              "<tr>\n",
              "  <th>COUNTRY_ENG</th>             <td>682934.7166</td> <td>216150.8279</td> <td>3.1595</td>  <td>0.0022</td>  <td>253241.0920</td> <td>1112628.3411</td>\n",
              "</tr>\n",
              "<tr>\n",
              "  <th>COUNTRY_IND</th>             <td>282829.8091</td> <td>96188.0292</td>  <td>2.9404</td>  <td>0.0042</td>  <td>91614.3356</td>   <td>474045.2827</td>\n",
              "</tr>\n",
              "<tr>\n",
              "  <th>COUNTRY_NZ</th>              <td>142968.8843</td> <td>151841.7382</td> <td>0.9416</td>  <td>0.3491</td> <td>-158882.5009</td>  <td>444820.2695</td>\n",
              "</tr>\n",
              "<tr>\n",
              "  <th>COUNTRY_PAK</th>             <td>122810.2480</td> <td>159600.8063</td> <td>0.7695</td>  <td>0.4437</td> <td>-194465.6541</td>  <td>440086.1502</td>\n",
              "</tr>\n",
              "<tr>\n",
              "  <th>COUNTRY_SA</th>              <td>108735.9086</td> <td>115092.9596</td> <td>0.9448</td>  <td>0.3474</td> <td>-120061.3227</td>  <td>337533.1399</td>\n",
              "</tr>\n",
              "<tr>\n",
              "  <th>COUNTRY_SL</th>              <td>55912.3398</td>  <td>142277.1829</td> <td>0.3930</td>  <td>0.6953</td> <td>-226925.3388</td>  <td>338750.0184</td>\n",
              "</tr>\n",
              "<tr>\n",
              "  <th>COUNTRY_WI</th>              <td>-22234.9315</td> <td>213050.5847</td> <td>-0.1044</td> <td>0.9171</td> <td>-445765.4766</td>  <td>401295.6135</td>\n",
              "</tr>\n",
              "<tr>\n",
              "  <th>COUNTRY_ZIM</th>             <td>-67977.6781</td> <td>390859.9289</td> <td>-0.1739</td> <td>0.8623</td> <td>-844981.5006</td>  <td>709026.1444</td>\n",
              "</tr>\n",
              "<tr>\n",
              "  <th>PLAYING ROLE_Batsman</th>    <td>121382.0570</td> <td>106685.0356</td> <td>1.1378</td>  <td>0.2584</td>  <td>-90700.7746</td>  <td>333464.8886</td>\n",
              "</tr>\n",
              "<tr>\n",
              "  <th>PLAYING ROLE_Bowler</th>     <td>-18315.4968</td> <td>106035.9664</td> <td>-0.1727</td> <td>0.8633</td> <td>-229108.0215</td>  <td>192477.0279</td>\n",
              "</tr>\n",
              "<tr>\n",
              "  <th>PLAYING ROLE_W. Keeper</th>  <td>-55121.9240</td> <td>169922.5271</td> <td>-0.3244</td> <td>0.7464</td> <td>-392916.7280</td>  <td>282672.8801</td>\n",
              "</tr>\n",
              "<tr>\n",
              "  <th>CAPTAINCY EXP_1</th>         <td>208376.6957</td> <td>98128.0284</td>  <td>2.1235</td>  <td>0.0366</td>  <td>13304.6315</td>   <td>403448.7600</td>\n",
              "</tr>\n",
              "</table>\n",
              "<table class=\"simpletable\">\n",
              "<tr>\n",
              "     <td>Omnibus:</td>    <td>8.635</td>  <td>Durbin-Watson:</td>   <td>2.252</td>\n",
              "</tr>\n",
              "<tr>\n",
              "  <td>Prob(Omnibus):</td> <td>0.013</td> <td>Jarque-Bera (JB):</td> <td>8.345</td>\n",
              "</tr>\n",
              "<tr>\n",
              "       <td>Skew:</td>     <td>0.623</td>     <td>Prob(JB):</td>     <td>0.015</td>\n",
              "</tr>\n",
              "<tr>\n",
              "     <td>Kurtosis:</td>   <td>3.609</td>  <td>Condition No.:</td>   <td>1492</td> \n",
              "</tr>\n",
              "</table>"
            ],
            "text/plain": [
              "<class 'statsmodels.iolib.summary2.Summary'>\n",
              "\"\"\"\n",
              "                            Results: Ordinary least squares\n",
              "========================================================================================\n",
              "Model:                      OLS                Adj. R-squared (uncentered):   0.728     \n",
              "Dependent Variable:         SOLD PRICE         AIC:                           2965.1080 \n",
              "Date:                       2021-09-02 19:41   BIC:                           3012.7070 \n",
              "No. Observations:           104                Log-Likelihood:                -1464.6   \n",
              "Df Model:                   18                 F-statistic:                   16.49     \n",
              "Df Residuals:               86                 Prob (F-statistic):            1.13e-20  \n",
              "R-squared (uncentered):     0.775              Scale:                         1.2071e+11\n",
              "----------------------------------------------------------------------------------------\n",
              "                          Coef.       Std.Err.     t    P>|t|     [0.025       0.975]   \n",
              "----------------------------------------------------------------------------------------\n",
              "ODI-WKTS                   772.4088    470.6354  1.6412 0.1044    -163.1834    1708.0009\n",
              "ODI-SR-BL                  909.0021   1267.4969  0.7172 0.4752   -1610.6983    3428.7026\n",
              "SIXERS                    7862.1259   2086.6101  3.7679 0.0003    3714.0824   12010.1694\n",
              "WKTS                      2431.8988   2105.3524  1.1551 0.2512   -1753.4033    6617.2008\n",
              "AGE_3                    -8950.6659  98041.9325 -0.0913 0.9275 -203851.5772  185950.2453\n",
              "COUNTRY_BAN            -108758.6040 369274.1916 -0.2945 0.7691 -842851.4010  625334.1930\n",
              "COUNTRY_ENG             682934.7166 216150.8279  3.1595 0.0022  253241.0920 1112628.3411\n",
              "COUNTRY_IND             282829.8091  96188.0292  2.9404 0.0042   91614.3356  474045.2827\n",
              "COUNTRY_NZ              142968.8843 151841.7382  0.9416 0.3491 -158882.5009  444820.2695\n",
              "COUNTRY_PAK             122810.2480 159600.8063  0.7695 0.4437 -194465.6541  440086.1502\n",
              "COUNTRY_SA              108735.9086 115092.9596  0.9448 0.3474 -120061.3227  337533.1399\n",
              "COUNTRY_SL               55912.3398 142277.1829  0.3930 0.6953 -226925.3388  338750.0184\n",
              "COUNTRY_WI              -22234.9315 213050.5847 -0.1044 0.9171 -445765.4766  401295.6135\n",
              "COUNTRY_ZIM             -67977.6781 390859.9289 -0.1739 0.8623 -844981.5006  709026.1444\n",
              "PLAYING ROLE_Batsman    121382.0570 106685.0356  1.1378 0.2584  -90700.7746  333464.8886\n",
              "PLAYING ROLE_Bowler     -18315.4968 106035.9664 -0.1727 0.8633 -229108.0215  192477.0279\n",
              "PLAYING ROLE_W. Keeper  -55121.9240 169922.5271 -0.3244 0.7464 -392916.7280  282672.8801\n",
              "CAPTAINCY EXP_1         208376.6957  98128.0284  2.1235 0.0366   13304.6315  403448.7600\n",
              "----------------------------------------------------------------------------------------\n",
              "Omnibus:                       8.635               Durbin-Watson:                  2.252\n",
              "Prob(Omnibus):                 0.013               Jarque-Bera (JB):               8.345\n",
              "Skew:                          0.623               Prob(JB):                       0.015\n",
              "Kurtosis:                      3.609               Condition No.:                  1492 \n",
              "========================================================================================\n",
              "* The condition number is large (1e+03). This might indicate             strong\n",
              "multicollinearity or other numerical problems.\n",
              "\"\"\""
            ]
          },
          "metadata": {},
          "execution_count": 38
        }
      ]
    },
    {
      "cell_type": "code",
      "metadata": {
        "colab": {
          "base_uri": "https://localhost:8080/",
          "height": 348
        },
        "id": "Zl2qxueCoXSp",
        "outputId": "0c8c9dcb-729d-473b-f5b7-4f44c4474555"
      },
      "source": [
        "significant_vars = ['COUNTRY_IND','COUNTRY_ENG','SIXERS','CAPTAINCY EXP_1']\n",
        "train_X = train_X[significant_vars]\n",
        "\n",
        "model_3 = sm.OLS (train_y, train_X).fit()\n",
        "model_3.summary2()"
      ],
      "execution_count": 39,
      "outputs": [
        {
          "output_type": "execute_result",
          "data": {
            "text/html": [
              "<table class=\"simpletable\">\n",
              "<tr>\n",
              "          <td>Model:</td>                 <td>OLS</td>       <td>Adj. R-squared (uncentered):</td>    <td>0.704</td>  \n",
              "</tr>\n",
              "<tr>\n",
              "    <td>Dependent Variable:</td>      <td>SOLD PRICE</td>                <td>AIC:</td>              <td>2961.8089</td>\n",
              "</tr>\n",
              "<tr>\n",
              "           <td>Date:</td>          <td>2021-09-02 19:41</td>             <td>BIC:</td>              <td>2972.3864</td>\n",
              "</tr>\n",
              "<tr>\n",
              "     <td>No. Observations:</td>           <td>104</td>              <td>Log-Likelihood:</td>         <td>-1476.9</td> \n",
              "</tr>\n",
              "<tr>\n",
              "         <td>Df Model:</td>                <td>4</td>                <td>F-statistic:</td>            <td>62.77</td>  \n",
              "</tr>\n",
              "<tr>\n",
              "       <td>Df Residuals:</td>             <td>100</td>            <td>Prob (F-statistic):</td>      <td>1.97e-26</td> \n",
              "</tr>\n",
              "<tr>\n",
              "  <td>R-squared (uncentered):</td>       <td>0.715</td>                 <td>Scale:</td>            <td>1.3164e+11</td>\n",
              "</tr>\n",
              "</table>\n",
              "<table class=\"simpletable\">\n",
              "<tr>\n",
              "         <td></td>            <th>Coef.</th>     <th>Std.Err.</th>      <th>t</th>    <th>P>|t|</th>   <th>[0.025</th>       <th>0.975]</th>   \n",
              "</tr>\n",
              "<tr>\n",
              "  <th>COUNTRY_IND</th>     <td>387890.2538</td> <td>63007.1511</td>  <td>6.1563</td> <td>0.0000</td> <td>262885.8606</td>  <td>512894.6471</td>\n",
              "</tr>\n",
              "<tr>\n",
              "  <th>COUNTRY_ENG</th>     <td>731833.6386</td> <td>214164.4988</td> <td>3.4172</td> <td>0.0009</td> <td>306937.3727</td> <td>1156729.9045</td>\n",
              "</tr>\n",
              "<tr>\n",
              "  <th>SIXERS</th>           <td>8637.8344</td>   <td>1675.1313</td>  <td>5.1565</td> <td>0.0000</td>  <td>5314.4216</td>   <td>11961.2472</td> \n",
              "</tr>\n",
              "<tr>\n",
              "  <th>CAPTAINCY EXP_1</th> <td>359725.2741</td> <td>74930.3460</td>  <td>4.8008</td> <td>0.0000</td> <td>211065.6018</td>  <td>508384.9463</td>\n",
              "</tr>\n",
              "</table>\n",
              "<table class=\"simpletable\">\n",
              "<tr>\n",
              "     <td>Omnibus:</td>    <td>1.130</td>  <td>Durbin-Watson:</td>   <td>2.238</td>\n",
              "</tr>\n",
              "<tr>\n",
              "  <td>Prob(Omnibus):</td> <td>0.568</td> <td>Jarque-Bera (JB):</td> <td>0.874</td>\n",
              "</tr>\n",
              "<tr>\n",
              "       <td>Skew:</td>     <td>0.223</td>     <td>Prob(JB):</td>     <td>0.646</td>\n",
              "</tr>\n",
              "<tr>\n",
              "     <td>Kurtosis:</td>   <td>3.046</td>  <td>Condition No.:</td>    <td>165</td> \n",
              "</tr>\n",
              "</table>"
            ],
            "text/plain": [
              "<class 'statsmodels.iolib.summary2.Summary'>\n",
              "\"\"\"\n",
              "                        Results: Ordinary least squares\n",
              "================================================================================\n",
              "Model:                  OLS              Adj. R-squared (uncentered): 0.704     \n",
              "Dependent Variable:     SOLD PRICE       AIC:                         2961.8089 \n",
              "Date:                   2021-09-02 19:41 BIC:                         2972.3864 \n",
              "No. Observations:       104              Log-Likelihood:              -1476.9   \n",
              "Df Model:               4                F-statistic:                 62.77     \n",
              "Df Residuals:           100              Prob (F-statistic):          1.97e-26  \n",
              "R-squared (uncentered): 0.715            Scale:                       1.3164e+11\n",
              "--------------------------------------------------------------------------------\n",
              "                     Coef.      Std.Err.    t    P>|t|     [0.025      0.975]   \n",
              "--------------------------------------------------------------------------------\n",
              "COUNTRY_IND       387890.2538  63007.1511 6.1563 0.0000 262885.8606  512894.6471\n",
              "COUNTRY_ENG       731833.6386 214164.4988 3.4172 0.0009 306937.3727 1156729.9045\n",
              "SIXERS              8637.8344   1675.1313 5.1565 0.0000   5314.4216   11961.2472\n",
              "CAPTAINCY EXP_1   359725.2741  74930.3460 4.8008 0.0000 211065.6018  508384.9463\n",
              "--------------------------------------------------------------------------------\n",
              "Omnibus:                   1.130             Durbin-Watson:                2.238\n",
              "Prob(Omnibus):             0.568             Jarque-Bera (JB):             0.874\n",
              "Skew:                      0.223             Prob(JB):                     0.646\n",
              "Kurtosis:                  3.046             Condition No.:                165  \n",
              "================================================================================\n",
              "\n",
              "\"\"\""
            ]
          },
          "metadata": {},
          "execution_count": 39
        }
      ]
    },
    {
      "cell_type": "code",
      "metadata": {
        "id": "ILfv1waHtlk8"
      },
      "source": [
        "train_y = np.sqrt (train_y)"
      ],
      "execution_count": 41,
      "outputs": []
    },
    {
      "cell_type": "code",
      "metadata": {
        "colab": {
          "base_uri": "https://localhost:8080/",
          "height": 348
        },
        "id": "RQhHb7SzB9Ch",
        "outputId": "aad7dbf1-79b8-4864-bddc-b72b3129566c"
      },
      "source": [
        "model_4 = sm.OLS(train_y, train_X).fit()\n",
        "model_4.summary2()"
      ],
      "execution_count": 42,
      "outputs": [
        {
          "output_type": "execute_result",
          "data": {
            "text/html": [
              "<table class=\"simpletable\">\n",
              "<tr>\n",
              "          <td>Model:</td>                 <td>OLS</td>       <td>Adj. R-squared (uncentered):</td>    <td>0.741</td>  \n",
              "</tr>\n",
              "<tr>\n",
              "    <td>Dependent Variable:</td>      <td>SOLD PRICE</td>                <td>AIC:</td>              <td>1527.9999</td>\n",
              "</tr>\n",
              "<tr>\n",
              "           <td>Date:</td>          <td>2021-09-02 19:42</td>             <td>BIC:</td>              <td>1538.5775</td>\n",
              "</tr>\n",
              "<tr>\n",
              "     <td>No. Observations:</td>           <td>104</td>              <td>Log-Likelihood:</td>         <td>-760.00</td> \n",
              "</tr>\n",
              "<tr>\n",
              "         <td>Df Model:</td>                <td>4</td>                <td>F-statistic:</td>            <td>75.29</td>  \n",
              "</tr>\n",
              "<tr>\n",
              "       <td>Df Residuals:</td>             <td>100</td>            <td>Prob (F-statistic):</td>      <td>2.63e-29</td> \n",
              "</tr>\n",
              "<tr>\n",
              "  <td>R-squared (uncentered):</td>       <td>0.751</td>                 <td>Scale:</td>            <td>1.3550e+05</td>\n",
              "</tr>\n",
              "</table>\n",
              "<table class=\"simpletable\">\n",
              "<tr>\n",
              "         <td></td>           <th>Coef.</th>  <th>Std.Err.</th>    <th>t</th>    <th>P>|t|</th>  <th>[0.025</th>   <th>0.975]</th> \n",
              "</tr>\n",
              "<tr>\n",
              "  <th>COUNTRY_IND</th>     <td>490.7089</td>  <td>63.9238</td> <td>7.6765</td> <td>0.0000</td> <td>363.8860</td> <td>617.5318</td>\n",
              "</tr>\n",
              "<tr>\n",
              "  <th>COUNTRY_ENG</th>     <td>563.0261</td> <td>217.2801</td> <td>2.5912</td> <td>0.0110</td> <td>131.9486</td> <td>994.1036</td>\n",
              "</tr>\n",
              "<tr>\n",
              "  <th>SIXERS</th>           <td>8.5338</td>   <td>1.6995</td>  <td>5.0213</td> <td>0.0000</td>  <td>5.1620</td>   <td>11.9055</td>\n",
              "</tr>\n",
              "<tr>\n",
              "  <th>CAPTAINCY EXP_1</th> <td>417.7575</td>  <td>76.0204</td> <td>5.4953</td> <td>0.0000</td> <td>266.9352</td> <td>568.5799</td>\n",
              "</tr>\n",
              "</table>\n",
              "<table class=\"simpletable\">\n",
              "<tr>\n",
              "     <td>Omnibus:</td>    <td>0.017</td>  <td>Durbin-Watson:</td>   <td>1.879</td>\n",
              "</tr>\n",
              "<tr>\n",
              "  <td>Prob(Omnibus):</td> <td>0.992</td> <td>Jarque-Bera (JB):</td> <td>0.145</td>\n",
              "</tr>\n",
              "<tr>\n",
              "       <td>Skew:</td>     <td>0.005</td>     <td>Prob(JB):</td>     <td>0.930</td>\n",
              "</tr>\n",
              "<tr>\n",
              "     <td>Kurtosis:</td>   <td>2.817</td>  <td>Condition No.:</td>    <td>165</td> \n",
              "</tr>\n",
              "</table>"
            ],
            "text/plain": [
              "<class 'statsmodels.iolib.summary2.Summary'>\n",
              "\"\"\"\n",
              "                        Results: Ordinary least squares\n",
              "================================================================================\n",
              "Model:                  OLS              Adj. R-squared (uncentered): 0.741     \n",
              "Dependent Variable:     SOLD PRICE       AIC:                         1527.9999 \n",
              "Date:                   2021-09-02 19:42 BIC:                         1538.5775 \n",
              "No. Observations:       104              Log-Likelihood:              -760.00   \n",
              "Df Model:               4                F-statistic:                 75.29     \n",
              "Df Residuals:           100              Prob (F-statistic):          2.63e-29  \n",
              "R-squared (uncentered): 0.751            Scale:                       1.3550e+05\n",
              "-----------------------------------------------------------------------------------\n",
              "                    Coef.      Std.Err.      t       P>|t|      [0.025      0.975] \n",
              "-----------------------------------------------------------------------------------\n",
              "COUNTRY_IND        490.7089     63.9238    7.6765    0.0000    363.8860    617.5318\n",
              "COUNTRY_ENG        563.0261    217.2801    2.5912    0.0110    131.9486    994.1036\n",
              "SIXERS               8.5338      1.6995    5.0213    0.0000      5.1620     11.9055\n",
              "CAPTAINCY EXP_1    417.7575     76.0204    5.4953    0.0000    266.9352    568.5799\n",
              "--------------------------------------------------------------------------------\n",
              "Omnibus:                   0.017             Durbin-Watson:                1.879\n",
              "Prob(Omnibus):             0.992             Jarque-Bera (JB):             0.145\n",
              "Skew:                      0.005             Prob(JB):                     0.930\n",
              "Kurtosis:                  2.817             Condition No.:                165  \n",
              "================================================================================\n",
              "\n",
              "\"\"\""
            ]
          },
          "metadata": {},
          "execution_count": 42
        }
      ]
    },
    {
      "cell_type": "code",
      "metadata": {
        "id": "D4y6f5QWCHDE"
      },
      "source": [
        "pred_y = np.power(model_4.predict(test_X[train_X.columns]),2)"
      ],
      "execution_count": 43,
      "outputs": []
    },
    {
      "cell_type": "code",
      "metadata": {
        "colab": {
          "base_uri": "https://localhost:8080/"
        },
        "id": "G7i1BtNOCUbV",
        "outputId": "795478dc-723f-41f3-a68e-ab70ce00aa1a"
      },
      "source": [
        "from sklearn import metrics\n",
        "np.sqrt(metrics.mean_squared_error (pred_y, test_y))"
      ],
      "execution_count": 45,
      "outputs": [
        {
          "output_type": "execute_result",
          "data": {
            "text/plain": [
              "496151.1812255804"
            ]
          },
          "metadata": {},
          "execution_count": 45
        }
      ]
    },
    {
      "cell_type": "code",
      "metadata": {
        "colab": {
          "base_uri": "https://localhost:8080/"
        },
        "id": "mnv1RPLuCdjv",
        "outputId": "f112dcf2-3961-4dfd-84ca-706a0ff0b31f"
      },
      "source": [
        "np.round (metrics.r2_score(pred_y,test_y),2)"
      ],
      "execution_count": 46,
      "outputs": [
        {
          "output_type": "execute_result",
          "data": {
            "text/plain": [
              "0.44"
            ]
          },
          "metadata": {},
          "execution_count": 46
        }
      ]
    },
    {
      "cell_type": "code",
      "metadata": {
        "id": "rCcHqhh5Cpev"
      },
      "source": [
        ""
      ],
      "execution_count": null,
      "outputs": []
    }
  ]
}